{
 "cells": [
  {
   "cell_type": "code",
   "execution_count": 1,
   "id": "93e8b355",
   "metadata": {},
   "outputs": [],
   "source": [
    "import numpy as np\n",
    "import pandas as pd\n",
    "import seaborn as sns\n",
    "import matplotlib.pyplot as plt\n",
    "import plotly as py \n",
    "import plotly.tools as tls \n",
    "import cufflinks as cf \n",
    "%matplotlib inline"
   ]
  },
  {
   "cell_type": "code",
   "execution_count": 2,
   "id": "9a836e40",
   "metadata": {},
   "outputs": [],
   "source": [
    "df_5=pd.read_csv(\"C:\\\\Users\\\\lenovo\\\\Downloads\\\\archive (3)\\\\TeamData.csv\")"
   ]
  },
  {
   "cell_type": "code",
   "execution_count": 3,
   "id": "fe775c48",
   "metadata": {},
   "outputs": [
    {
     "data": {
      "text/plain": [
       "(12, 17)"
      ]
     },
     "execution_count": 3,
     "metadata": {},
     "output_type": "execute_result"
    }
   ],
   "source": [
    "df_5.shape"
   ]
  },
  {
   "cell_type": "code",
   "execution_count": 4,
   "id": "17535588",
   "metadata": {},
   "outputs": [
    {
     "data": {
      "text/html": [
       "<div>\n",
       "<style scoped>\n",
       "    .dataframe tbody tr th:only-of-type {\n",
       "        vertical-align: middle;\n",
       "    }\n",
       "\n",
       "    .dataframe tbody tr th {\n",
       "        vertical-align: top;\n",
       "    }\n",
       "\n",
       "    .dataframe thead th {\n",
       "        text-align: right;\n",
       "    }\n",
       "</style>\n",
       "<table border=\"1\" class=\"dataframe\">\n",
       "  <thead>\n",
       "    <tr style=\"text-align: right;\">\n",
       "      <th></th>\n",
       "      <th>Unnamed: 0</th>\n",
       "      <th>Games</th>\n",
       "      <th>TOTAL POINTS SCORED</th>\n",
       "      <th>TOTAL POINTS CONCEDED</th>\n",
       "      <th>AVG POINTS SCORED</th>\n",
       "      <th>SUCCESSFUL RAIDS</th>\n",
       "      <th>RAID POINTS</th>\n",
       "      <th>AVG RAID POINTS</th>\n",
       "      <th>SUCCESSFUL TACKLES</th>\n",
       "      <th>TACKLE POINTS</th>\n",
       "      <th>AVG TACKLE POINTS</th>\n",
       "      <th>SUPER RAID</th>\n",
       "      <th>SUPER TACKLES</th>\n",
       "      <th>DO-OR-DIE RAID POINTS</th>\n",
       "      <th>ALL-OUTS INFLICTED</th>\n",
       "      <th>ALL-OUTS CONCEDED</th>\n",
       "    </tr>\n",
       "  </thead>\n",
       "  <tbody>\n",
       "    <tr>\n",
       "      <th>count</th>\n",
       "      <td>12.000000</td>\n",
       "      <td>12.000000</td>\n",
       "      <td>12.000000</td>\n",
       "      <td>12.000000</td>\n",
       "      <td>12.000000</td>\n",
       "      <td>12.000000</td>\n",
       "      <td>12.000000</td>\n",
       "      <td>12.000000</td>\n",
       "      <td>12.000000</td>\n",
       "      <td>12.000000</td>\n",
       "      <td>12.000000</td>\n",
       "      <td>12.000000</td>\n",
       "      <td>12.000000</td>\n",
       "      <td>12.000000</td>\n",
       "      <td>12.000000</td>\n",
       "      <td>12.000000</td>\n",
       "    </tr>\n",
       "    <tr>\n",
       "      <th>mean</th>\n",
       "      <td>5.500000</td>\n",
       "      <td>19.333333</td>\n",
       "      <td>631.666667</td>\n",
       "      <td>631.666667</td>\n",
       "      <td>28.629167</td>\n",
       "      <td>286.333333</td>\n",
       "      <td>358.833333</td>\n",
       "      <td>18.550000</td>\n",
       "      <td>177.500000</td>\n",
       "      <td>194.833333</td>\n",
       "      <td>10.080833</td>\n",
       "      <td>8.416667</td>\n",
       "      <td>18.666667</td>\n",
       "      <td>59.416667</td>\n",
       "      <td>23.000000</td>\n",
       "      <td>23.000000</td>\n",
       "    </tr>\n",
       "    <tr>\n",
       "      <th>std</th>\n",
       "      <td>3.605551</td>\n",
       "      <td>0.778499</td>\n",
       "      <td>57.903263</td>\n",
       "      <td>47.549655</td>\n",
       "      <td>1.956525</td>\n",
       "      <td>37.215181</td>\n",
       "      <td>43.848569</td>\n",
       "      <td>2.028192</td>\n",
       "      <td>13.331439</td>\n",
       "      <td>16.546537</td>\n",
       "      <td>0.784051</td>\n",
       "      <td>3.679386</td>\n",
       "      <td>6.773388</td>\n",
       "      <td>10.782632</td>\n",
       "      <td>6.915069</td>\n",
       "      <td>4.492418</td>\n",
       "    </tr>\n",
       "    <tr>\n",
       "      <th>min</th>\n",
       "      <td>0.000000</td>\n",
       "      <td>18.000000</td>\n",
       "      <td>551.000000</td>\n",
       "      <td>561.000000</td>\n",
       "      <td>25.750000</td>\n",
       "      <td>223.000000</td>\n",
       "      <td>289.000000</td>\n",
       "      <td>16.000000</td>\n",
       "      <td>160.000000</td>\n",
       "      <td>171.000000</td>\n",
       "      <td>8.550000</td>\n",
       "      <td>4.000000</td>\n",
       "      <td>8.000000</td>\n",
       "      <td>42.000000</td>\n",
       "      <td>13.000000</td>\n",
       "      <td>17.000000</td>\n",
       "    </tr>\n",
       "    <tr>\n",
       "      <th>25%</th>\n",
       "      <td>2.750000</td>\n",
       "      <td>19.000000</td>\n",
       "      <td>593.000000</td>\n",
       "      <td>600.000000</td>\n",
       "      <td>26.727500</td>\n",
       "      <td>264.000000</td>\n",
       "      <td>330.250000</td>\n",
       "      <td>17.045000</td>\n",
       "      <td>168.000000</td>\n",
       "      <td>186.000000</td>\n",
       "      <td>9.622500</td>\n",
       "      <td>5.750000</td>\n",
       "      <td>13.750000</td>\n",
       "      <td>52.250000</td>\n",
       "      <td>18.750000</td>\n",
       "      <td>21.000000</td>\n",
       "    </tr>\n",
       "    <tr>\n",
       "      <th>50%</th>\n",
       "      <td>5.500000</td>\n",
       "      <td>19.500000</td>\n",
       "      <td>633.000000</td>\n",
       "      <td>633.500000</td>\n",
       "      <td>28.985000</td>\n",
       "      <td>282.500000</td>\n",
       "      <td>351.000000</td>\n",
       "      <td>18.170000</td>\n",
       "      <td>179.000000</td>\n",
       "      <td>191.500000</td>\n",
       "      <td>10.080000</td>\n",
       "      <td>7.500000</td>\n",
       "      <td>17.500000</td>\n",
       "      <td>59.500000</td>\n",
       "      <td>21.000000</td>\n",
       "      <td>22.000000</td>\n",
       "    </tr>\n",
       "    <tr>\n",
       "      <th>75%</th>\n",
       "      <td>8.250000</td>\n",
       "      <td>20.000000</td>\n",
       "      <td>653.000000</td>\n",
       "      <td>647.750000</td>\n",
       "      <td>30.257500</td>\n",
       "      <td>295.500000</td>\n",
       "      <td>381.000000</td>\n",
       "      <td>20.050000</td>\n",
       "      <td>183.250000</td>\n",
       "      <td>197.000000</td>\n",
       "      <td>10.362500</td>\n",
       "      <td>10.000000</td>\n",
       "      <td>23.500000</td>\n",
       "      <td>69.500000</td>\n",
       "      <td>27.250000</td>\n",
       "      <td>23.250000</td>\n",
       "    </tr>\n",
       "    <tr>\n",
       "      <th>max</th>\n",
       "      <td>11.000000</td>\n",
       "      <td>20.000000</td>\n",
       "      <td>742.000000</td>\n",
       "      <td>723.000000</td>\n",
       "      <td>31.200000</td>\n",
       "      <td>361.000000</td>\n",
       "      <td>437.000000</td>\n",
       "      <td>21.850000</td>\n",
       "      <td>207.000000</td>\n",
       "      <td>232.000000</td>\n",
       "      <td>11.600000</td>\n",
       "      <td>15.000000</td>\n",
       "      <td>32.000000</td>\n",
       "      <td>73.000000</td>\n",
       "      <td>34.000000</td>\n",
       "      <td>33.000000</td>\n",
       "    </tr>\n",
       "  </tbody>\n",
       "</table>\n",
       "</div>"
      ],
      "text/plain": [
       "       Unnamed: 0      Games  TOTAL POINTS SCORED  TOTAL POINTS CONCEDED  \\\n",
       "count   12.000000  12.000000            12.000000              12.000000   \n",
       "mean     5.500000  19.333333           631.666667             631.666667   \n",
       "std      3.605551   0.778499            57.903263              47.549655   \n",
       "min      0.000000  18.000000           551.000000             561.000000   \n",
       "25%      2.750000  19.000000           593.000000             600.000000   \n",
       "50%      5.500000  19.500000           633.000000             633.500000   \n",
       "75%      8.250000  20.000000           653.000000             647.750000   \n",
       "max     11.000000  20.000000           742.000000             723.000000   \n",
       "\n",
       "       AVG POINTS SCORED  SUCCESSFUL RAIDS  RAID POINTS  AVG RAID POINTS  \\\n",
       "count          12.000000         12.000000    12.000000        12.000000   \n",
       "mean           28.629167        286.333333   358.833333        18.550000   \n",
       "std             1.956525         37.215181    43.848569         2.028192   \n",
       "min            25.750000        223.000000   289.000000        16.000000   \n",
       "25%            26.727500        264.000000   330.250000        17.045000   \n",
       "50%            28.985000        282.500000   351.000000        18.170000   \n",
       "75%            30.257500        295.500000   381.000000        20.050000   \n",
       "max            31.200000        361.000000   437.000000        21.850000   \n",
       "\n",
       "       SUCCESSFUL TACKLES  TACKLE POINTS  AVG TACKLE POINTS  SUPER RAID  \\\n",
       "count           12.000000      12.000000          12.000000   12.000000   \n",
       "mean           177.500000     194.833333          10.080833    8.416667   \n",
       "std             13.331439      16.546537           0.784051    3.679386   \n",
       "min            160.000000     171.000000           8.550000    4.000000   \n",
       "25%            168.000000     186.000000           9.622500    5.750000   \n",
       "50%            179.000000     191.500000          10.080000    7.500000   \n",
       "75%            183.250000     197.000000          10.362500   10.000000   \n",
       "max            207.000000     232.000000          11.600000   15.000000   \n",
       "\n",
       "       SUPER TACKLES  DO-OR-DIE RAID POINTS  ALL-OUTS INFLICTED  \\\n",
       "count      12.000000              12.000000           12.000000   \n",
       "mean       18.666667              59.416667           23.000000   \n",
       "std         6.773388              10.782632            6.915069   \n",
       "min         8.000000              42.000000           13.000000   \n",
       "25%        13.750000              52.250000           18.750000   \n",
       "50%        17.500000              59.500000           21.000000   \n",
       "75%        23.500000              69.500000           27.250000   \n",
       "max        32.000000              73.000000           34.000000   \n",
       "\n",
       "       ALL-OUTS CONCEDED  \n",
       "count          12.000000  \n",
       "mean           23.000000  \n",
       "std             4.492418  \n",
       "min            17.000000  \n",
       "25%            21.000000  \n",
       "50%            22.000000  \n",
       "75%            23.250000  \n",
       "max            33.000000  "
      ]
     },
     "execution_count": 4,
     "metadata": {},
     "output_type": "execute_result"
    }
   ],
   "source": [
    "df_5.describe()"
   ]
  },
  {
   "cell_type": "code",
   "execution_count": 5,
   "id": "fce0a723",
   "metadata": {},
   "outputs": [
    {
     "data": {
      "text/plain": [
       "Index(['Unnamed: 0', 'Team', 'Games', 'TOTAL POINTS SCORED',\n",
       "       'TOTAL POINTS CONCEDED', 'AVG POINTS SCORED', 'SUCCESSFUL RAIDS',\n",
       "       'RAID POINTS', 'AVG RAID POINTS', 'SUCCESSFUL TACKLES', 'TACKLE POINTS',\n",
       "       'AVG TACKLE POINTS', 'SUPER RAID', 'SUPER TACKLES',\n",
       "       'DO-OR-DIE RAID POINTS', 'ALL-OUTS INFLICTED', 'ALL-OUTS CONCEDED'],\n",
       "      dtype='object')"
      ]
     },
     "execution_count": 5,
     "metadata": {},
     "output_type": "execute_result"
    }
   ],
   "source": [
    "df_5.columns"
   ]
  },
  {
   "cell_type": "code",
   "execution_count": 6,
   "id": "ff82f2f7",
   "metadata": {},
   "outputs": [
    {
     "data": {
      "text/plain": [
       "Unnamed: 0               0\n",
       "Team                     0\n",
       "Games                    0\n",
       "TOTAL POINTS SCORED      0\n",
       "TOTAL POINTS CONCEDED    0\n",
       "AVG POINTS SCORED        0\n",
       "SUCCESSFUL RAIDS         0\n",
       "RAID POINTS              0\n",
       "AVG RAID POINTS          0\n",
       "SUCCESSFUL TACKLES       0\n",
       "TACKLE POINTS            0\n",
       "AVG TACKLE POINTS        0\n",
       "SUPER RAID               0\n",
       "SUPER TACKLES            0\n",
       "DO-OR-DIE RAID POINTS    0\n",
       "ALL-OUTS INFLICTED       0\n",
       "ALL-OUTS CONCEDED        0\n",
       "dtype: int64"
      ]
     },
     "execution_count": 6,
     "metadata": {},
     "output_type": "execute_result"
    }
   ],
   "source": [
    "df_5.isnull().sum()"
   ]
  },
  {
   "cell_type": "code",
   "execution_count": 7,
   "id": "96afe870",
   "metadata": {},
   "outputs": [
    {
     "data": {
      "text/plain": [
       "<AxesSubplot:ylabel='Games'>"
      ]
     },
     "execution_count": 7,
     "metadata": {},
     "output_type": "execute_result"
    },
    {
     "data": {
      "image/png": "[encoded data removed]",
      "text/plain": [
       "<Figure size 432x288 with 1 Axes>"
      ]
     },
     "metadata": {},
     "output_type": "display_data"
    }
   ],
   "source": [
    "df_5['Games'].plot(kind='pie')"
   ]
  },
  {
   "cell_type": "code",
   "execution_count": 8,
   "id": "340b8a68",
   "metadata": {},
   "outputs": [
    {
     "name": "stderr",
     "output_type": "stream",
     "text": [
      "C:\\Users\\lenovo\\anaconda3\\lib\\site-packages\\seaborn\\_decorators.py:36: FutureWarning:\n",
      "\n",
      "Pass the following variable as a keyword arg: x. From version 0.12, the only valid positional argument will be `data`, and passing other arguments without an explicit keyword will result in an error or misinterpretation.\n",
      "\n"
     ]
    },
    {
     "data": {
      "image/png": "[encoded data removed]",
      "text/plain": [
       "<Figure size 432x288 with 1 Axes>"
      ]
     },
     "metadata": {
      "needs_background": "light"
     },
     "output_type": "display_data"
    }
   ],
   "source": [
    "sns.boxplot('SUCCESSFUL TACKLES',data=df_5)\n",
    "plt.show()"
   ]
  },
  {
   "cell_type": "code",
   "execution_count": 10,
   "id": "cf26d360",
   "metadata": {},
   "outputs": [
    {
     "name": "stderr",
     "output_type": "stream",
     "text": [
      "C:\\Users\\lenovo\\anaconda3\\lib\\site-packages\\seaborn\\_decorators.py:36: FutureWarning:\n",
      "\n",
      "Pass the following variable as a keyword arg: x. From version 0.12, the only valid positional argument will be `data`, and passing other arguments without an explicit keyword will result in an error or misinterpretation.\n",
      "\n"
     ]
    },
    {
     "data": {
      "image/png": "[encoded data removed]",
      "text/plain": [
       "<Figure size 432x288 with 1 Axes>"
      ]
     },
     "metadata": {
      "needs_background": "light"
     },
     "output_type": "display_data"
    }
   ],
   "source": [
    "sns.barplot('TACKLE POINTS',data=df_5)\n",
    "plt.show()"
   ]
  },
  {
   "cell_type": "code",
   "execution_count": 12,
   "id": "011549ae",
   "metadata": {},
   "outputs": [
    {
     "data": {
      "text/plain": [
       "Text(0, 0.5, 'TOTAL POINTS CONCEDED')"
      ]
     },
     "execution_count": 12,
     "metadata": {},
     "output_type": "execute_result"
    },
    {
     "data": {
      "image/png": "[encoded data removed]",
      "text/plain": [
       "<Figure size 432x288 with 1 Axes>"
      ]
     },
     "metadata": {
      "needs_background": "light"
     },
     "output_type": "display_data"
    }
   ],
   "source": [
    "x=df_5['TOTAL POINTS SCORED']\n",
    "y=df_5['TOTAL POINTS CONCEDED']\n",
    "plt.scatter(x,y)\n",
    "plt.xlabel('TOTAL POINTS SCORED',fontsize=10)\n",
    "plt.ylabel('TOTAL POINTS CONCEDED',fontsize=10)"
   ]
  },
  {
   "cell_type": "code",
   "execution_count": 14,
   "id": "686a29ce",
   "metadata": {},
   "outputs": [
    {
     "data": {
      "text/plain": [
       "<AxesSubplot:xlabel='RAID POINTS', ylabel='count'>"
      ]
     },
     "execution_count": 14,
     "metadata": {},
     "output_type": "execute_result"
    },
    {
     "data": {
      "image/png": "[encoded data removed]",
      "text/plain": [
       "<Figure size 720x576 with 1 Axes>"
      ]
     },
     "metadata": {
      "needs_background": "light"
     },
     "output_type": "display_data"
    }
   ],
   "source": [
    "plt.figure(figsize=(10,8))\n",
    "sns.countplot(data=df_5,x='RAID POINTS',hue='AVG RAID POINTS')"
   ]
  },
  {
   "cell_type": "code",
   "execution_count": 15,
   "id": "703354f2",
   "metadata": {},
   "outputs": [
    {
     "name": "stderr",
     "output_type": "stream",
     "text": [
      "C:\\Users\\lenovo\\anaconda3\\lib\\site-packages\\seaborn\\_decorators.py:36: FutureWarning:\n",
      "\n",
      "Pass the following variable as a keyword arg: x. From version 0.12, the only valid positional argument will be `data`, and passing other arguments without an explicit keyword will result in an error or misinterpretation.\n",
      "\n"
     ]
    },
    {
     "data": {
      "image/png": "[encoded data removed]",
      "text/plain": [
       "<Figure size 432x288 with 1 Axes>"
      ]
     },
     "metadata": {
      "needs_background": "light"
     },
     "output_type": "display_data"
    }
   ],
   "source": [
    "sns.countplot('SUCCESSFUL TACKLES',data=df_5)\n",
    "plt.show()"
   ]
  },
  {
   "cell_type": "code",
   "execution_count": 16,
   "id": "51fd3077",
   "metadata": {},
   "outputs": [
    {
     "data": {
      "text/plain": [
       "<AxesSubplot:>"
      ]
     },
     "execution_count": 16,
     "metadata": {},
     "output_type": "execute_result"
    },
    {
     "data": {
      "image/png": "[encoded data removed]",
      "text/plain": [
       "<Figure size 720x576 with 1 Axes>"
      ]
     },
     "metadata": {
      "needs_background": "light"
     },
     "output_type": "display_data"
    }
   ],
   "source": [
    "df_5['DO-OR-DIE RAID POINTS'].plot(kind='bar',figsize=(10,8))"
   ]
  },
  {
   "cell_type": "code",
   "execution_count": 17,
   "id": "b9ef4ad2",
   "metadata": {},
   "outputs": [
    {
     "data": {
      "text/plain": [
       "ALL-OUTS INFLICTED  ALL-OUTS CONCEDED\n",
       "13                  22                   1\n",
       "14                  30                   1\n",
       "18                  33                   1\n",
       "19                  23                   1\n",
       "21                  22                   2\n",
       "                    24                   1\n",
       "26                  21                   1\n",
       "27                  21                   1\n",
       "28                  23                   1\n",
       "34                  17                   1\n",
       "                    18                   1\n",
       "Name: ALL-OUTS CONCEDED, dtype: int64"
      ]
     },
     "execution_count": 17,
     "metadata": {},
     "output_type": "execute_result"
    }
   ],
   "source": [
    "df_5.groupby(['ALL-OUTS INFLICTED','ALL-OUTS CONCEDED'])['ALL-OUTS CONCEDED'].count()"
   ]
  },
  {
   "cell_type": "code",
   "execution_count": 18,
   "id": "424a6a47",
   "metadata": {},
   "outputs": [
    {
     "data": {
      "text/plain": [
       "Team                   Games\n",
       "Bengal Warriors        20       1\n",
       "Bengaluru Bulls        19       1\n",
       "Dabang Delhi K.C.      20       1\n",
       "Gujarat Fortunegiants  20       1\n",
       "Haryana Steelers       19       1\n",
       "Jaipur Pink Panthers   20       1\n",
       "Patna Pirates          19       1\n",
       "Puneri Paltan          20       1\n",
       "Tamil Thalaivas        20       1\n",
       "Telugu Titans          18       1\n",
       "U Mumba                19       1\n",
       "U.P. Yoddha            18       1\n",
       "Name: Games, dtype: int64"
      ]
     },
     "execution_count": 18,
     "metadata": {},
     "output_type": "execute_result"
    }
   ],
   "source": [
    "df_5.groupby(['Team','Games'])['Games'].count()"
   ]
  },
  {
   "cell_type": "code",
   "execution_count": 19,
   "id": "a46b7e12",
   "metadata": {},
   "outputs": [
    {
     "name": "stderr",
     "output_type": "stream",
     "text": [
      "C:\\Users\\lenovo\\anaconda3\\lib\\site-packages\\seaborn\\_decorators.py:36: FutureWarning:\n",
      "\n",
      "Pass the following variable as a keyword arg: x. From version 0.12, the only valid positional argument will be `data`, and passing other arguments without an explicit keyword will result in an error or misinterpretation.\n",
      "\n"
     ]
    },
    {
     "data": {
      "text/plain": [
       "<AxesSubplot:xlabel='SUPER RAID', ylabel='count'>"
      ]
     },
     "execution_count": 19,
     "metadata": {},
     "output_type": "execute_result"
    },
    {
     "data": {
      "image/png": "[encoded data removed]",
      "text/plain": [
       "<Figure size 432x288 with 1 Axes>"
      ]
     },
     "metadata": {
      "needs_background": "light"
     },
     "output_type": "display_data"
    }
   ],
   "source": [
    "sns.countplot('SUPER RAID',data=df_5)\n"
   ]
  },
  {
   "cell_type": "code",
   "execution_count": 20,
   "id": "f2cead36",
   "metadata": {},
   "outputs": [
    {
     "data": {
      "text/plain": [
       "0"
      ]
     },
     "execution_count": 20,
     "metadata": {},
     "output_type": "execute_result"
    }
   ],
   "source": [
    "df_5.duplicated().sum()\n"
   ]
  }
 ],
 "metadata": {
  "kernelspec": {
   "display_name": "Python 3 (ipykernel)",
   "language": "python",
   "name": "python3"
  },
  "language_info": {
   "codemirror_mode": {
    "name": "ipython",
    "version": 3
   },
   "file_extension": ".py",
   "mimetype": "text/x-python",
   "name": "python",
   "nbconvert_exporter": "python",
   "pygments_lexer": "ipython3",
   "version": "3.9.12"
  }
 },
 "nbformat": 4,
 "nbformat_minor": 5
}
